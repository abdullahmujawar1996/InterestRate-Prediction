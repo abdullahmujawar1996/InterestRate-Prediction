{
 "cells": [
  {
   "cell_type": "code",
   "execution_count": 1,
   "id": "0bda7817",
   "metadata": {},
   "outputs": [],
   "source": [
    "import pandas as pd\n",
    "import numpy as np"
   ]
  },
  {
   "cell_type": "code",
   "execution_count": 2,
   "id": "e41186d8",
   "metadata": {},
   "outputs": [],
   "source": [
    "df = pd.read_csv('/Users/abdullahmujawar/Documents/Stout Case Study/casestudy.csv', sep=',')"
   ]
  },
  {
   "cell_type": "code",
   "execution_count": 3,
   "id": "2be86aac",
   "metadata": {},
   "outputs": [
    {
     "data": {
      "text/html": [
       "<div>\n",
       "<style scoped>\n",
       "    .dataframe tbody tr th:only-of-type {\n",
       "        vertical-align: middle;\n",
       "    }\n",
       "\n",
       "    .dataframe tbody tr th {\n",
       "        vertical-align: top;\n",
       "    }\n",
       "\n",
       "    .dataframe thead th {\n",
       "        text-align: right;\n",
       "    }\n",
       "</style>\n",
       "<table border=\"1\" class=\"dataframe\">\n",
       "  <thead>\n",
       "    <tr style=\"text-align: right;\">\n",
       "      <th></th>\n",
       "      <th>Index</th>\n",
       "      <th>customer_email</th>\n",
       "      <th>net_revenue</th>\n",
       "      <th>year</th>\n",
       "    </tr>\n",
       "  </thead>\n",
       "  <tbody>\n",
       "    <tr>\n",
       "      <th>0</th>\n",
       "      <td>0</td>\n",
       "      <td>nhknapwsbx@gmail.com</td>\n",
       "      <td>249.92</td>\n",
       "      <td>2015</td>\n",
       "    </tr>\n",
       "    <tr>\n",
       "      <th>1</th>\n",
       "      <td>1</td>\n",
       "      <td>joiuzbvcpn@gmail.com</td>\n",
       "      <td>87.61</td>\n",
       "      <td>2015</td>\n",
       "    </tr>\n",
       "    <tr>\n",
       "      <th>2</th>\n",
       "      <td>2</td>\n",
       "      <td>ukkjctepxt@gmail.com</td>\n",
       "      <td>168.38</td>\n",
       "      <td>2015</td>\n",
       "    </tr>\n",
       "    <tr>\n",
       "      <th>3</th>\n",
       "      <td>3</td>\n",
       "      <td>gykatilzrt@gmail.com</td>\n",
       "      <td>62.40</td>\n",
       "      <td>2015</td>\n",
       "    </tr>\n",
       "    <tr>\n",
       "      <th>4</th>\n",
       "      <td>4</td>\n",
       "      <td>mmsgsrtxah@gmail.com</td>\n",
       "      <td>43.08</td>\n",
       "      <td>2015</td>\n",
       "    </tr>\n",
       "  </tbody>\n",
       "</table>\n",
       "</div>"
      ],
      "text/plain": [
       "   Index         customer_email  net_revenue  year\n",
       "0      0   nhknapwsbx@gmail.com       249.92  2015\n",
       "1      1   joiuzbvcpn@gmail.com        87.61  2015\n",
       "2      2   ukkjctepxt@gmail.com       168.38  2015\n",
       "3      3   gykatilzrt@gmail.com        62.40  2015\n",
       "4      4   mmsgsrtxah@gmail.com        43.08  2015"
      ]
     },
     "execution_count": 3,
     "metadata": {},
     "output_type": "execute_result"
    }
   ],
   "source": [
    "df.head()"
   ]
  },
  {
   "cell_type": "code",
   "execution_count": 24,
   "id": "7b1d1f60",
   "metadata": {},
   "outputs": [
    {
     "name": "stdout",
     "output_type": "stream",
     "text": [
      "      New Customer  Existing Customer  Total Customers  net_revenue\n",
      "year                                                               \n",
      "2015        231294                  0           231294  29036749.19\n",
      "2016        136891              67755           204646  25730943.59\n",
      "2017        224420              25567           249987  31417495.03\n"
     ]
    },
    {
     "name": "stderr",
     "output_type": "stream",
     "text": [
      "/Users/abdullahmujawar/opt/anaconda3/lib/python3.8/site-packages/pandas/core/computation/expressions.py:204: UserWarning: evaluating in Python space because the '+' operator is not supported by numexpr for the bool dtype, use '|' instead\n",
      "  warnings.warn(\n"
     ]
    }
   ],
   "source": [
    "df['Customer ID'] = df['customer_email'].apply(lambda x: x.split('@')[0])\n",
    "\n",
    "min_dates = df.groupby(['Customer ID'])['year'].min()\n",
    "df['First_Purchase_Date'] = df.apply(lambda row: min_dates.loc[row['Customer ID']], axis=1) \n",
    "df['New Customer'] = df['year'] <= df['First_Purchase_Date']\n",
    "df['Existing Customer'] = df['year'] > df['First_Purchase_Date']\n",
    "df['Total Customers'] = df['New Customer'] + df['Existing Customer']\n",
    "\n",
    "Table = df.groupby(df['year'])[['New Customer', 'Existing Customer','Total Customers','net_revenue']].sum()\n",
    "\n",
    "print(Table)"
   ]
  },
  {
   "cell_type": "code",
   "execution_count": 17,
   "id": "4871923f",
   "metadata": {},
   "outputs": [],
   "source": [
    "Existing_Cust_Data = df[df['Existing Customer'] == 1]"
   ]
  },
  {
   "cell_type": "code",
   "execution_count": 18,
   "id": "6a0a0711",
   "metadata": {},
   "outputs": [
    {
     "data": {
      "text/html": [
       "<div>\n",
       "<style scoped>\n",
       "    .dataframe tbody tr th:only-of-type {\n",
       "        vertical-align: middle;\n",
       "    }\n",
       "\n",
       "    .dataframe tbody tr th {\n",
       "        vertical-align: top;\n",
       "    }\n",
       "\n",
       "    .dataframe thead th {\n",
       "        text-align: right;\n",
       "    }\n",
       "</style>\n",
       "<table border=\"1\" class=\"dataframe\">\n",
       "  <thead>\n",
       "    <tr style=\"text-align: right;\">\n",
       "      <th></th>\n",
       "      <th>Index</th>\n",
       "      <th>customer_email</th>\n",
       "      <th>net_revenue</th>\n",
       "      <th>year</th>\n",
       "      <th>Customer ID</th>\n",
       "      <th>First_Purchase_Date</th>\n",
       "      <th>New Customer</th>\n",
       "      <th>Existing Customer</th>\n",
       "      <th>Total Customers</th>\n",
       "    </tr>\n",
       "  </thead>\n",
       "  <tbody>\n",
       "    <tr>\n",
       "      <th>231302</th>\n",
       "      <td>231302</td>\n",
       "      <td>baiikostmd@gmail.com</td>\n",
       "      <td>142.57</td>\n",
       "      <td>2016</td>\n",
       "      <td>baiikostmd</td>\n",
       "      <td>2015</td>\n",
       "      <td>False</td>\n",
       "      <td>True</td>\n",
       "      <td>True</td>\n",
       "    </tr>\n",
       "    <tr>\n",
       "      <th>231303</th>\n",
       "      <td>231303</td>\n",
       "      <td>lfeafnigbu@gmail.com</td>\n",
       "      <td>35.06</td>\n",
       "      <td>2016</td>\n",
       "      <td>lfeafnigbu</td>\n",
       "      <td>2015</td>\n",
       "      <td>False</td>\n",
       "      <td>True</td>\n",
       "      <td>True</td>\n",
       "    </tr>\n",
       "    <tr>\n",
       "      <th>231308</th>\n",
       "      <td>231308</td>\n",
       "      <td>sktswronzp@gmail.com</td>\n",
       "      <td>238.44</td>\n",
       "      <td>2016</td>\n",
       "      <td>sktswronzp</td>\n",
       "      <td>2015</td>\n",
       "      <td>False</td>\n",
       "      <td>True</td>\n",
       "      <td>True</td>\n",
       "    </tr>\n",
       "    <tr>\n",
       "      <th>231309</th>\n",
       "      <td>231309</td>\n",
       "      <td>tqxsjlgjpi@gmail.com</td>\n",
       "      <td>33.50</td>\n",
       "      <td>2016</td>\n",
       "      <td>tqxsjlgjpi</td>\n",
       "      <td>2015</td>\n",
       "      <td>False</td>\n",
       "      <td>True</td>\n",
       "      <td>True</td>\n",
       "    </tr>\n",
       "    <tr>\n",
       "      <th>231310</th>\n",
       "      <td>231310</td>\n",
       "      <td>hxshgpdxtr@gmail.com</td>\n",
       "      <td>217.35</td>\n",
       "      <td>2016</td>\n",
       "      <td>hxshgpdxtr</td>\n",
       "      <td>2015</td>\n",
       "      <td>False</td>\n",
       "      <td>True</td>\n",
       "      <td>True</td>\n",
       "    </tr>\n",
       "  </tbody>\n",
       "</table>\n",
       "</div>"
      ],
      "text/plain": [
       "         Index         customer_email  net_revenue  year  Customer ID  \\\n",
       "231302  231302   baiikostmd@gmail.com       142.57  2016   baiikostmd   \n",
       "231303  231303   lfeafnigbu@gmail.com        35.06  2016   lfeafnigbu   \n",
       "231308  231308  sktswronzp@gmail.com        238.44  2016   sktswronzp   \n",
       "231309  231309   tqxsjlgjpi@gmail.com        33.50  2016   tqxsjlgjpi   \n",
       "231310  231310   hxshgpdxtr@gmail.com       217.35  2016   hxshgpdxtr   \n",
       "\n",
       "        First_Purchase_Date  New Customer  Existing Customer  Total Customers  \n",
       "231302                 2015         False               True             True  \n",
       "231303                 2015         False               True             True  \n",
       "231308                 2015         False               True             True  \n",
       "231309                 2015         False               True             True  \n",
       "231310                 2015         False               True             True  "
      ]
     },
     "execution_count": 18,
     "metadata": {},
     "output_type": "execute_result"
    }
   ],
   "source": [
    "Existing_Cust_Data.head()"
   ]
  },
  {
   "cell_type": "code",
   "execution_count": 20,
   "id": "e2c2dcc8",
   "metadata": {},
   "outputs": [
    {
     "name": "stdout",
     "output_type": "stream",
     "text": [
      "      Existing Customer  net_revenue\n",
      "year                                \n",
      "2016              67755   8524576.69\n",
      "2017              25567   3226937.85\n"
     ]
    }
   ],
   "source": [
    "Existing_Cust_Table = Existing_Cust_Data.groupby(Existing_Cust_Data['year'])[['Existing Customer','net_revenue']].sum() #with date filter on first purchase date\n",
    "\n",
    "print(Existing_Cust_Table)"
   ]
  },
  {
   "cell_type": "code",
   "execution_count": 21,
   "id": "3a5da09e",
   "metadata": {},
   "outputs": [],
   "source": [
    "Existing_Cust_Table['Diff'] = Existing_Cust_Table['net_revenue'].diff(1)"
   ]
  },
  {
   "cell_type": "code",
   "execution_count": 22,
   "id": "0c399e2b",
   "metadata": {},
   "outputs": [
    {
     "name": "stdout",
     "output_type": "stream",
     "text": [
      "      Existing Customer  net_revenue        Diff\n",
      "year                                            \n",
      "2016              67755   8524576.69         NaN\n",
      "2017              25567   3226937.85 -5297638.84\n"
     ]
    }
   ],
   "source": [
    "print(Existing_Cust_Table)"
   ]
  },
  {
   "cell_type": "code",
   "execution_count": 25,
   "id": "32952805",
   "metadata": {},
   "outputs": [],
   "source": [
    "New_Cust_Data = df[df['New Customer'] == 1]"
   ]
  },
  {
   "cell_type": "code",
   "execution_count": 27,
   "id": "c9766b07",
   "metadata": {},
   "outputs": [
    {
     "data": {
      "text/html": [
       "<div>\n",
       "<style scoped>\n",
       "    .dataframe tbody tr th:only-of-type {\n",
       "        vertical-align: middle;\n",
       "    }\n",
       "\n",
       "    .dataframe tbody tr th {\n",
       "        vertical-align: top;\n",
       "    }\n",
       "\n",
       "    .dataframe thead th {\n",
       "        text-align: right;\n",
       "    }\n",
       "</style>\n",
       "<table border=\"1\" class=\"dataframe\">\n",
       "  <thead>\n",
       "    <tr style=\"text-align: right;\">\n",
       "      <th></th>\n",
       "      <th>Index</th>\n",
       "      <th>customer_email</th>\n",
       "      <th>net_revenue</th>\n",
       "      <th>year</th>\n",
       "      <th>Customer ID</th>\n",
       "      <th>First_Purchase_Date</th>\n",
       "      <th>New Customer</th>\n",
       "      <th>Existing Customer</th>\n",
       "      <th>Total Customers</th>\n",
       "    </tr>\n",
       "  </thead>\n",
       "  <tbody>\n",
       "    <tr>\n",
       "      <th>0</th>\n",
       "      <td>0</td>\n",
       "      <td>nhknapwsbx@gmail.com</td>\n",
       "      <td>249.92</td>\n",
       "      <td>2015</td>\n",
       "      <td>nhknapwsbx</td>\n",
       "      <td>2015</td>\n",
       "      <td>True</td>\n",
       "      <td>False</td>\n",
       "      <td>True</td>\n",
       "    </tr>\n",
       "    <tr>\n",
       "      <th>1</th>\n",
       "      <td>1</td>\n",
       "      <td>joiuzbvcpn@gmail.com</td>\n",
       "      <td>87.61</td>\n",
       "      <td>2015</td>\n",
       "      <td>joiuzbvcpn</td>\n",
       "      <td>2015</td>\n",
       "      <td>True</td>\n",
       "      <td>False</td>\n",
       "      <td>True</td>\n",
       "    </tr>\n",
       "    <tr>\n",
       "      <th>2</th>\n",
       "      <td>2</td>\n",
       "      <td>ukkjctepxt@gmail.com</td>\n",
       "      <td>168.38</td>\n",
       "      <td>2015</td>\n",
       "      <td>ukkjctepxt</td>\n",
       "      <td>2015</td>\n",
       "      <td>True</td>\n",
       "      <td>False</td>\n",
       "      <td>True</td>\n",
       "    </tr>\n",
       "    <tr>\n",
       "      <th>3</th>\n",
       "      <td>3</td>\n",
       "      <td>gykatilzrt@gmail.com</td>\n",
       "      <td>62.40</td>\n",
       "      <td>2015</td>\n",
       "      <td>gykatilzrt</td>\n",
       "      <td>2015</td>\n",
       "      <td>True</td>\n",
       "      <td>False</td>\n",
       "      <td>True</td>\n",
       "    </tr>\n",
       "    <tr>\n",
       "      <th>4</th>\n",
       "      <td>4</td>\n",
       "      <td>mmsgsrtxah@gmail.com</td>\n",
       "      <td>43.08</td>\n",
       "      <td>2015</td>\n",
       "      <td>mmsgsrtxah</td>\n",
       "      <td>2015</td>\n",
       "      <td>True</td>\n",
       "      <td>False</td>\n",
       "      <td>True</td>\n",
       "    </tr>\n",
       "  </tbody>\n",
       "</table>\n",
       "</div>"
      ],
      "text/plain": [
       "   Index         customer_email  net_revenue  year  Customer ID  \\\n",
       "0      0   nhknapwsbx@gmail.com       249.92  2015   nhknapwsbx   \n",
       "1      1   joiuzbvcpn@gmail.com        87.61  2015   joiuzbvcpn   \n",
       "2      2   ukkjctepxt@gmail.com       168.38  2015   ukkjctepxt   \n",
       "3      3   gykatilzrt@gmail.com        62.40  2015   gykatilzrt   \n",
       "4      4   mmsgsrtxah@gmail.com        43.08  2015   mmsgsrtxah   \n",
       "\n",
       "   First_Purchase_Date  New Customer  Existing Customer  Total Customers  \n",
       "0                 2015          True              False             True  \n",
       "1                 2015          True              False             True  \n",
       "2                 2015          True              False             True  \n",
       "3                 2015          True              False             True  \n",
       "4                 2015          True              False             True  "
      ]
     },
     "execution_count": 27,
     "metadata": {},
     "output_type": "execute_result"
    }
   ],
   "source": [
    "New_Cust_Data.head()"
   ]
  },
  {
   "cell_type": "code",
   "execution_count": 36,
   "id": "15b25cfe",
   "metadata": {},
   "outputs": [
    {
     "name": "stdout",
     "output_type": "stream",
     "text": [
      "      New Customer  net_revenue\n",
      "year                           \n",
      "2015        231294  29036749.19\n",
      "2016        136891  17206366.90\n",
      "2017        224420  28190557.18\n"
     ]
    }
   ],
   "source": [
    "New_Cust_Table = New_Cust_Data.groupby(New_Cust_Data['year'])[['New Customer','net_revenue']].sum() #with date filter on first purchase date\n",
    "\n",
    "print(New_Cust_Table)"
   ]
  },
  {
   "cell_type": "code",
   "execution_count": 37,
   "id": "7b90850e",
   "metadata": {},
   "outputs": [],
   "source": [
    "New_Cust_Table['Diff in Customers'] = New_Cust_Table['New Customer'].diff(1)"
   ]
  },
  {
   "cell_type": "code",
   "execution_count": 38,
   "id": "bed190f4",
   "metadata": {},
   "outputs": [
    {
     "name": "stdout",
     "output_type": "stream",
     "text": [
      "      New Customer  net_revenue  Diff in Customers\n",
      "year                                              \n",
      "2015        231294  29036749.19                NaN\n",
      "2016        136891  17206366.90           -94403.0\n",
      "2017        224420  28190557.18            87529.0\n"
     ]
    }
   ],
   "source": [
    "print(New_Cust_Table)"
   ]
  }
 ],
 "metadata": {
  "kernelspec": {
   "display_name": "Python 3",
   "language": "python",
   "name": "python3"
  },
  "language_info": {
   "codemirror_mode": {
    "name": "ipython",
    "version": 3
   },
   "file_extension": ".py",
   "mimetype": "text/x-python",
   "name": "python",
   "nbconvert_exporter": "python",
   "pygments_lexer": "ipython3",
   "version": "3.8.8"
  }
 },
 "nbformat": 4,
 "nbformat_minor": 5
}
